{
 "cells": [
  {
   "cell_type": "markdown",
   "metadata": {},
   "source": [
    "# Browian Dynamics \n",
    "(BOAP algorithm: *BJ Leimkuhler and C Matthews Appl. Math. Res. eXpress 2013, 34–56 (2013); J. Chem. Phys. 138, 174102 (2013)*)\n",
    "\n",
    "\n",
    "\n",
    "\\begin{equation}\n",
    "\\bold{\\dot{p}} = -\\gamma\\bold{p} + \\sigma \\bold{\\dot{w}} \n",
    "\\end{equation}\n",
    "where:\n",
    "<br>\n",
    "1. $\\gamma\\bold{p}$ is the friction force. It simulates the effect of the bath (solvent) on the system.\n",
    "<br>\n",
    "2. $\\sigma\\bold{\\dot{w}}$ is the random force, which is represented by the derivate of a Wiener process $\\bold{w}$.\n",
    "<br>\n",
    "3. $\\sigma = \\sqrt{2 \\gamma m k_B T}$ governs the strenght of the random force (it is related to the friction coefficient via the fluctuation-dissipation theorem)\n",
    "<br>\n",
    "\\begin{equation}\n",
    "d\\bold{p} = -\\gamma\\bold{p} dt + \\sigma d\\bold{w}\n",
    "\\end{equation}\n",
    "\n",
    "<br>\n",
    "\n",
    "\\begin{equation}\n",
    "\\bold{p\\left(t + \\delta t\\right)} = \\exp(-\\gamma\\delta t) \\bold{p\\left(t\\right)} + \\sqrt{1-\\exp(-2\\gamma\\delta t)}\\sqrt{m k_B T} \\bold{G}\n",
    "\\end{equation}\n"
   ]
  },
  {
   "cell_type": "code",
   "execution_count": null,
   "metadata": {},
   "outputs": [],
   "source": [
    "import numpy as np\n",
    "import matplotlib.pyplot as plt\n",
    "import matplotlib.animation as animation\n",
    "\n",
    "import simulation as sim\n",
    "import importlib\n",
    "importlib.reload(sim)"
   ]
  },
  {
   "cell_type": "code",
   "execution_count": null,
   "metadata": {},
   "outputs": [],
   "source": [
    "# Set default values, check keys and typecheck values\n",
    "DT = 0.005\n",
    "NSTEPS = 1000\n",
    "T = [1.0, 5.0, 20.0]\n",
    "GAMMA = [0.5, 1.0, 5.0]\n",
    "N = 1\n",
    "r = 0.0\n",
    "p = 0.0\n",
    "BOX = 1.0\n",
    "F = 0.0\n",
    "for i, g in enumerate(GAMMA):\n",
    "    for temp in T:\n",
    "        rs, ps = sim.main(DT, r, p, g, BOX, temp, N, NSTEPS, F)\n",
    "        xs = [x[0][0] for x in rs]\n",
    "        ys = [x[0][1] for x in rs]\n",
    "        zs = [x[0][2] for x in rs]\n",
    "\n",
    "        pxs = [x[0][0] for x in ps]\n",
    "        pys = [x[0][1] for x in ps]\n",
    "        pzs = [x[0][2] for x in ps]\n",
    "\n",
    "        fig_xs = plt.figure()\n",
    "        ax1 = fig_xs.add_subplot(projection='3d')\n",
    "        fig_xs.suptitle(f'gamma={g}, T={temp}')\n",
    "        _ = ax1.plot(xs, ys, zs, lw=1.5)\n",
    "        ax1.set_xlabel('X')\n",
    "        ax1.set_ylabel('Y')\n",
    "        ax1.set_zlabel('Z')\n",
    "\n",
    "        # fig_pxs = plt.figure()\n",
    "        # ax2 = fig_pxs.add_subplot()\n",
    "        # fig_pxs.suptitle(f'gamma={g}, T={temp}')\n",
    "        # xs, pxs = np.asarray(xs), np.asarray(pxs)\n",
    "        # _ = ax2.scatter(xs, pxs, c=[np.linspace(-xs.max(), xs.max(), NSTEPS)])\n",
    "        # ax2.set_xlabel('x')\n",
    "        # ax2.set_ylabel('px')\n",
    "        # plt.show()"
   ]
  },
  {
   "cell_type": "code",
   "execution_count": null,
   "metadata": {},
   "outputs": [],
   "source": []
  }
 ],
 "metadata": {
  "interpreter": {
   "hash": "5f9f5138820bcbb22ba8f6d028de16318d7028380696f226bb063b21874d96d9"
  },
  "kernelspec": {
   "display_name": "Python 3.9.10 64-bit (system)",
   "language": "python",
   "name": "python3"
  },
  "language_info": {
   "codemirror_mode": {
    "name": "ipython",
    "version": 3
   },
   "file_extension": ".py",
   "mimetype": "text/x-python",
   "name": "python",
   "nbconvert_exporter": "python",
   "pygments_lexer": "ipython3",
   "version": "3.9.10"
  },
  "orig_nbformat": 4
 },
 "nbformat": 4,
 "nbformat_minor": 2
}
