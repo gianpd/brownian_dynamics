{
 "cells": [
  {
   "cell_type": "markdown",
   "metadata": {},
   "source": [
    "# Browian Dynamics \n",
    "(BOAP algorithm: *BJ Leimkuhler and C Matthews Appl. Math. Res. eXpress 2013, 34–56 (2013); J. Chem. Phys. 138, 174102 (2013)*)\n",
    "\n",
    "\n",
    "\n",
    "\\begin{equation}\n",
    "\\bold{\\dot{p}} = -\\gamma\\bold{p} + \\sigma \\bold{\\dot{w}} \n",
    "\\end{equation}\n",
    "where:\n",
    "<br>\n",
    "1. $\\gamma\\bold{p}$ is the friction force. It simulates the effect of the bath (solvent).\n",
    "<br>\n",
    "2. $\\sigma\\bold{\\dot{w}}$ is the random force, which is represented by the derivate of a Wiener process $\\bold{w}$.\n",
    "<br>\n",
    "3. $\\sigma = \\sqrt{2 \\xi k_B T}$ governs the strenght of the random force (it is related to the friction coefficient via the fluctuation-dissipation theorem)"
   ]
  },
  {
   "cell_type": "code",
   "execution_count": null,
   "metadata": {},
   "outputs": [],
   "source": [
    "import numpy as np\n",
    "import matplotlib.pyplot as plt\n",
    "import matplotlib.animation as animation\n",
    "\n",
    "from IPython import display"
   ]
  },
  {
   "cell_type": "code",
   "execution_count": null,
   "metadata": {},
   "outputs": [],
   "source": [
    "np.random.seed(123)\n",
    "\n",
    "def kick_step_propagator(t, p, f=None):\n",
    "    \"\"\"t is the time step (usually dt/2); p is the momentum which must be propagated \"\"\"\n",
    "    if f:\n",
    "        return p + t * f\n",
    "    else:\n",
    "        return p \n",
    "\n",
    "def drift_step_propagator(t, r, p, box):\n",
    "    r = r + t * (p / box)\n",
    "    r = r - np.rint(r) # periodic bounderies\n",
    "    return r\n",
    "    \n",
    "def random_step_propagator(t, p, gamma, T, n):\n",
    "    \"\"\"friction and random contributions propagator.\n",
    "    t is the time over which to propagate (typically dt).\n",
    "    gamma is the friction coefficient, T is the temperature, n is the number of particles\n",
    "    \"\"\"\n",
    "    x = gamma * t\n",
    "    c = 1 - np.exp(-2 * x) if x > 0.0001 else np.polyval([-2/3, 4/3, -2.0, 2.0, 0.0], x)\n",
    "    c = np.sqrt(c)\n",
    "    p = p * np.exp(-x) + c * np.sqrt(T) * np.random.randn(n, 3)\n",
    "    return p\n",
    "\n",
    "def main(t, r, p, gamma, box, T, n, nsteps, f=None):\n",
    "    rs, ps = [], []\n",
    "    for i in range(nsteps):\n",
    "        p = kick_step_propagator(t * 0.5, p, f)\n",
    "        r = drift_step_propagator(t * 0.5, r, p, box)\n",
    "        p = random_step_propagator(t, p, gamma, T, n)\n",
    "        rs.append(drift_step_propagator(t * 0.5, r, p, box))\n",
    "        ps.append(kick_step_propagator(t * 0.5, p, f))\n",
    "    return rs, ps"
   ]
  },
  {
   "cell_type": "code",
   "execution_count": null,
   "metadata": {},
   "outputs": [],
   "source": [
    "# Set default values, check keys and typecheck values\n",
    "DT = 0.005\n",
    "NSTEPS = 1000\n",
    "T = [1.0]\n",
    "GAMMA = [0.5, 1.0, 5.0]\n",
    "N = 1\n",
    "r = 0.0\n",
    "p = 0.0\n",
    "BOX = 1.0\n",
    "F = 0.0\n",
    "for i, g in enumerate(GAMMA):\n",
    "    for temp in T:\n",
    "        rs, ps = main(DT, r, p, g, BOX, temp, N, NSTEPS, F)\n",
    "        xs = [x[0][0] for x in rs]\n",
    "        ys = [x[0][1] for x in rs]\n",
    "        zs = [x[0][2] for x in rs]\n",
    "\n",
    "        pxs = [x[0][0] for x in ps]\n",
    "        pys = [x[0][1] for x in ps]\n",
    "        pzs = [x[0][2] for x in ps]\n",
    "\n",
    "        fig_xs, ax1 = plt.subplots(1, 1)\n",
    "        ax1 = fig_xs.add_subplot(projection='3d')\n",
    "        fig_xs.suptitle(f'gamma={g}, T={temp}')\n",
    "        _ = ax1.plot(xs, ys, zs, lw=1.5)\n",
    "        ax1.set_xlabel('X')\n",
    "        ax1.set_ylabel('Y')\n",
    "        ax1.set_zlabel('Z')\n",
    "        plt.show()"
   ]
  },
  {
   "cell_type": "code",
   "execution_count": null,
   "metadata": {},
   "outputs": [],
   "source": []
  }
 ],
 "metadata": {
  "interpreter": {
   "hash": "5f9f5138820bcbb22ba8f6d028de16318d7028380696f226bb063b21874d96d9"
  },
  "kernelspec": {
   "display_name": "Python 3.9.10 64-bit (system)",
   "language": "python",
   "name": "python3"
  },
  "language_info": {
   "codemirror_mode": {
    "name": "ipython",
    "version": 3
   },
   "file_extension": ".py",
   "mimetype": "text/x-python",
   "name": "python",
   "nbconvert_exporter": "python",
   "pygments_lexer": "ipython3",
   "version": "3.9.10"
  },
  "orig_nbformat": 4
 },
 "nbformat": 4,
 "nbformat_minor": 2
}
